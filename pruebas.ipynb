{
 "cells": [
  {
   "cell_type": "code",
   "execution_count": 2,
   "id": "9b205e93",
   "metadata": {},
   "outputs": [],
   "source": [
    "import tiktoken\n",
    "\n",
    "from modules.graph.graph import build_langgraph_controller_flow"
   ]
  },
  {
   "cell_type": "code",
   "execution_count": 3,
   "id": "cf7d593f",
   "metadata": {},
   "outputs": [
    {
     "data": {
      "image/png": "[encoded data removed]",
      "text/plain": [
       "<langgraph.graph.state.CompiledStateGraph object at 0x00000293CDBBA390>"
      ]
     },
     "execution_count": 3,
     "metadata": {},
     "output_type": "execute_result"
    }
   ],
   "source": [
    "build_langgraph_controller_flow()"
   ]
  },
  {
   "cell_type": "code",
   "execution_count": 8,
   "id": "52617691",
   "metadata": {},
   "outputs": [],
   "source": [
    "def count_tokens(text: str, model: str = \"gpt-3.5-turbo\") -> int:\n",
    "    \"\"\"\n",
    "    Cuenta los tokens exactos que usará un texto en un modelo específico de OpenAI.\n",
    "    \n",
    "    Args:\n",
    "        text (str): Texto a tokenizar.\n",
    "        model (str): Nombre del modelo (por ejemplo, 'gpt-3.5-turbo').\n",
    "\n",
    "    Returns:\n",
    "        int: Número de tokens.\n",
    "    \"\"\"\n",
    "    try:\n",
    "        encoding = tiktoken.encoding_for_model(model)\n",
    "    except KeyError:\n",
    "        # fallback por si el modelo no está listado\n",
    "        encoding = tiktoken.get_encoding(\"cl100k_base\")\n",
    "\n",
    "    return len(encoding.encode(text))"
   ]
  },
  {
   "cell_type": "code",
   "execution_count": 9,
   "id": "8d11a78f",
   "metadata": {},
   "outputs": [
    {
     "name": "stdout",
     "output_type": "stream",
     "text": [
      "🔢 Tokens: 203\n",
      "🔢 Tokens: 31\n",
      "🔢 Tokens: 57\n"
     ]
    }
   ],
   "source": [
    "default_system_prompt = \"\"\"\n",
    "Eres un planificador de viajes experto en Australia.\n",
    "  Tu tarea es exclusivamente diseñar itinerarios turísticos dentro de Australia. No estás autorizado a hablar de otros países, destinos o culturas fuera de Australia.\n",
    "\n",
    "  ✅ Debes:\n",
    "  - Responder siempre en español.\n",
    "  - Ofrecer planes día a día organizados claramente.\n",
    "  - Adaptar el itinerario al presupuesto, intereses y formato de viaje del usuario.\n",
    "  - Ser amable, claro y directo.\n",
    "\n",
    "  🚫 No debes:\n",
    "  - Responder preguntas sobre viajes fuera de Australia. Si te preguntan por otro país, responde amablemente que solo puedes ayudar con destinos dentro de Australia.\n",
    "  - Dar consejos médicos, legales ni financieros.\n",
    "  - Recomendar actividades ilegales o peligrosas.\n",
    "  - Inventar información si no sabes la respuesta.\n",
    "  \"\"\"\n",
    "\n",
    "fallback_prompt = \"\"\"Tu sistema de recuperación no ha encontrado documentos útiles.\n",
    "  Responde con tu conocimiento general de forma clara, directa y en español.\"\"\"\n",
    "\n",
    "prompt_base = \"\"\"Quiero un itinerario día a día para un viaje de {days} días, \n",
    "  con presupuesto {budget}, viajando en formato {travel_type}, \n",
    "  centrado en los siguientes intereses: {interests}. \n",
    "  Detalles adicionales:\"\"\"\n",
    "\n",
    "print(\"🔢 Tokens:\", count_tokens(default_system_prompt))\n",
    "print(\"🔢 Tokens:\", count_tokens(fallback_prompt))\n",
    "print(\"🔢 Tokens:\", count_tokens(prompt_base))"
   ]
  }
 ],
 "metadata": {
  "kernelspec": {
   "display_name": ".venv",
   "language": "python",
   "name": "python3"
  },
  "language_info": {
   "codemirror_mode": {
    "name": "ipython",
    "version": 3
   },
   "file_extension": ".py",
   "mimetype": "text/x-python",
   "name": "python",
   "nbconvert_exporter": "python",
   "pygments_lexer": "ipython3",
   "version": "3.12.10"
  }
 },
 "nbformat": 4,
 "nbformat_minor": 5
}
